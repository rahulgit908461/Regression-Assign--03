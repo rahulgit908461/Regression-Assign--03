{
 "cells": [
  {
   "cell_type": "code",
   "execution_count": 1,
   "id": "cb729b96-022d-437c-8761-fc25e40cb190",
   "metadata": {},
   "outputs": [],
   "source": [
    "#Q1. What is Ridge Regression, and how does it differ from ordinary least squares regression?"
   ]
  },
  {
   "cell_type": "code",
   "execution_count": 2,
   "id": "738d6df8-f949-484f-b88e-375fa36790b7",
   "metadata": {},
   "outputs": [],
   "source": [
    "# A technique used when the data suffers from multicollinearity ( independent variables are highly correlated).\n",
    "#Ridge regression is a term used to refer to a linear regression model whose coefficients are estimated not by ordinary\n",
    "#least squares (OLS), but by an estimator, called ridge estimator, that, albeit biased, has lower variance than the OLS estimator.\n",
    "\n"
   ]
  },
  {
   "cell_type": "code",
   "execution_count": 3,
   "id": "ca7c03e2-1a95-41ef-bc9b-02a3bf9d3d28",
   "metadata": {},
   "outputs": [],
   "source": [
    "#Q2. What are the assumptions of Ridge Regression?"
   ]
  },
  {
   "cell_type": "code",
   "execution_count": 4,
   "id": "d07215a9-03e4-4b69-a579-d671473fa9b2",
   "metadata": {},
   "outputs": [],
   "source": [
    "#linearity, constant variance, and independence."
   ]
  },
  {
   "cell_type": "code",
   "execution_count": 5,
   "id": "0e2236fd-c092-4a8a-8433-b4b094661f44",
   "metadata": {},
   "outputs": [],
   "source": [
    "#Q3. How do you select the value of the tuning parameter (lambda) in Ridge Regression?"
   ]
  },
  {
   "cell_type": "code",
   "execution_count": 6,
   "id": "ae61452d-2320-4d2c-b674-a049118d4143",
   "metadata": {},
   "outputs": [],
   "source": [
    "#Selecting a good value for λ is critical. When λ=0, the penalty term has no effect, and ridge regression will produce the \n",
    "#classical least square coefficients. However, as λ increases to infinite, the impact of the shrinkage penalty grows, and the \n",
    "#ridge regression coefficients will get close zero."
   ]
  },
  {
   "cell_type": "code",
   "execution_count": 7,
   "id": "e7b888e0-6bdd-42ec-8e03-22035b69e3ee",
   "metadata": {},
   "outputs": [],
   "source": [
    "#Q4. Can Ridge Regression be used for feature selection? If yes, how?"
   ]
  },
  {
   "cell_type": "code",
   "execution_count": 8,
   "id": "49f8f9dd-8f12-4d58-89a7-b62b40122fa5",
   "metadata": {},
   "outputs": [],
   "source": [
    "#Ridge regression can also help us in feature selection to find out the important features required for modelling purposes.\n",
    "#Ridge regression (L2 regularization) shrinks coefficients towards zero, whereas lasso regression (L1 regularization) can force\n",
    "#some coefficients to be exactly 0, making it suitable for feature selection."
   ]
  },
  {
   "cell_type": "code",
   "execution_count": 9,
   "id": "c7897977-e975-4d9f-9e65-4a45e3a58d99",
   "metadata": {},
   "outputs": [],
   "source": [
    "#Q5. How does the Ridge Regression model perform in the presence of multicollinearity?"
   ]
  },
  {
   "cell_type": "code",
   "execution_count": 10,
   "id": "2bc66a86-6423-450a-bebc-aa422e9d3fea",
   "metadata": {},
   "outputs": [],
   "source": [
    "#By adding a degree of bias to the regression estimates, ridge regression reduces the standard errors."
   ]
  },
  {
   "cell_type": "code",
   "execution_count": 11,
   "id": "59f05c18-2468-4008-a8cd-8caece6f4c2d",
   "metadata": {},
   "outputs": [],
   "source": [
    "#Q6. Can Ridge Regression handle both categorical and continuous independent variables?"
   ]
  },
  {
   "cell_type": "code",
   "execution_count": 13,
   "id": "56dbd888-a5dc-4925-b08a-7e516048b439",
   "metadata": {},
   "outputs": [],
   "source": [
    "#That is not problem for you if you have discrete (categorical) or continuous variables in your X matrix.\n",
    "#they cannot by entered into the regression equation just as they are. Instead, they need to be recoded into a series of \n",
    "#variables which can then be entered into the regression mod"
   ]
  },
  {
   "cell_type": "code",
   "execution_count": 14,
   "id": "adfc40e1-1dd4-4b4a-9a67-11b975a5f03a",
   "metadata": {},
   "outputs": [],
   "source": [
    "#Q7. How do you interpret the coefficients of Ridge Regression?"
   ]
  },
  {
   "cell_type": "code",
   "execution_count": 15,
   "id": "80af3c36-40e7-4c81-969a-55418f80eb50",
   "metadata": {},
   "outputs": [],
   "source": [
    "#a reduced factor of the simple linear regression coefficients and thus never attain zero values but very small values. "
   ]
  },
  {
   "cell_type": "code",
   "execution_count": 17,
   "id": "8cef302b-991e-4fbc-8bc2-a51fbe7be107",
   "metadata": {},
   "outputs": [],
   "source": [
    "#Q8. Can Ridge Regression be used for time-series data analysis? If yes, how?"
   ]
  },
  {
   "cell_type": "code",
   "execution_count": 18,
   "id": "44d41509-caa6-4f70-a925-910d971e652a",
   "metadata": {},
   "outputs": [],
   "source": [
    "#Time series regression can help you understand and predict the behavior of dynamic systems from experimental or observational \n",
    "#data. Common uses of time series regression include modeling and forecasting of economic, financial, biological, and engineering \n",
    "#systems."
   ]
  },
  {
   "cell_type": "code",
   "execution_count": null,
   "id": "bf00da5c-9c20-4ab9-b3e7-ba461b5ba7c0",
   "metadata": {},
   "outputs": [],
   "source": []
  },
  {
   "cell_type": "code",
   "execution_count": null,
   "id": "634ef9ba-38b4-4f8b-a63c-482eaa885a1b",
   "metadata": {},
   "outputs": [],
   "source": []
  },
  {
   "cell_type": "code",
   "execution_count": null,
   "id": "5de1ee11-fb2c-4cc9-a6ea-71875d84b4e3",
   "metadata": {},
   "outputs": [],
   "source": []
  }
 ],
 "metadata": {
  "kernelspec": {
   "display_name": "Python 3 (ipykernel)",
   "language": "python",
   "name": "python3"
  },
  "language_info": {
   "codemirror_mode": {
    "name": "ipython",
    "version": 3
   },
   "file_extension": ".py",
   "mimetype": "text/x-python",
   "name": "python",
   "nbconvert_exporter": "python",
   "pygments_lexer": "ipython3",
   "version": "3.10.8"
  }
 },
 "nbformat": 4,
 "nbformat_minor": 5
}
